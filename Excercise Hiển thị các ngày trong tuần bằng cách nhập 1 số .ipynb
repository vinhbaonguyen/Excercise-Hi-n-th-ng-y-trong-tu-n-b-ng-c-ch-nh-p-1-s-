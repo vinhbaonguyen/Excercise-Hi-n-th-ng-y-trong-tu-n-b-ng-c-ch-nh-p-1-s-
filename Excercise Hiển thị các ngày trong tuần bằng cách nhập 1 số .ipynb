{
 "cells": [
  {
   "cell_type": "code",
   "execution_count": 3,
   "id": "c156b967",
   "metadata": {},
   "outputs": [
    {
     "name": "stdout",
     "output_type": "stream",
     "text": [
      "Hãy nhập 1 số từ 1 đến 7 để hiển thị các ngày trong tuần2\n",
      "2 là Monday\n"
     ]
    }
   ],
   "source": [
    "n = int(input(\"Hãy nhập 1 số từ 1 đến 7 để hiển thị các ngày trong tuần\"))\n",
    "\n",
    "if n == 1:\n",
    "    print(f\"{n} là Sunday\")\n",
    "elif n ==2:\n",
    "    print(f\"{n} là Monday\")\n",
    "elif n==3:\n",
    "    print(f\"{n} là Tuesday\")\n",
    "elif n==4:\n",
    "    print(f\"{n} là Wednesday\")\n",
    "elif n==5:\n",
    "    print(f\"{n} là Thursday\")\n",
    "elif n==6:\n",
    "    print(f\"{n} là Friday\")\n",
    "else:\n",
    "    print(f\"{n} là Saturday\")\n",
    "    \n",
    "\n"
   ]
  }
 ],
 "metadata": {
  "kernelspec": {
   "display_name": "Python 3 (ipykernel)",
   "language": "python",
   "name": "python3"
  },
  "language_info": {
   "codemirror_mode": {
    "name": "ipython",
    "version": 3
   },
   "file_extension": ".py",
   "mimetype": "text/x-python",
   "name": "python",
   "nbconvert_exporter": "python",
   "pygments_lexer": "ipython3",
   "version": "3.11.1"
  }
 },
 "nbformat": 4,
 "nbformat_minor": 5
}
